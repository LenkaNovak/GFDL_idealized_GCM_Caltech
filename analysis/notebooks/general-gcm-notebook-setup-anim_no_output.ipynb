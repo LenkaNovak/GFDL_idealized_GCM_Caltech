{
 "cells": [
  {
   "cell_type": "markdown",
   "metadata": {},
   "source": [
    "Load modules"
   ]
  },
  {
   "cell_type": "code",
   "execution_count": null,
   "metadata": {},
   "outputs": [],
   "source": [
    "using Plots\n",
    "using NCDatasets\n",
    "using Statistics: mean"
   ]
  },
  {
   "cell_type": "markdown",
   "metadata": {},
   "source": [
    "Setup run-time enviromnent"
   ]
  },
  {
   "cell_type": "code",
   "execution_count": null,
   "metadata": {},
   "outputs": [],
   "source": [
    "ENV[\"GKSwstype\"] = \"100\""
   ]
  },
  {
   "cell_type": "markdown",
   "metadata": {},
   "source": [
    "Specify needed directories and filenames: these will be replaced automatically by the bash run script or can be modified manually"
   ]
  },
  {
   "cell_type": "code",
   "execution_count": null,
   "metadata": {},
   "outputs": [],
   "source": [
    "CLIMA_NETCDF = \"/central/scratch/elencz/caltech_fms_idealized/hs_syn_diff/hs_syn_diff_num_fourier_42_lat0_s_0.0/output/ppp_output/history/\";"
   ]
  },
  {
   "cell_type": "markdown",
   "metadata": {},
   "source": [
    "Get the current and previous  GCM netcdf file names in the CLIMA_NETCDF directory"
   ]
  },
  {
   "cell_type": "code",
   "execution_count": null,
   "metadata": {},
   "outputs": [],
   "source": [
    "#file_no = 50\n",
    "#fnames = filter(x -> occursin(\".nc\", x), readdir( CLIMA_NETCDF ) );\n",
    "#filename = \"$CLIMA_NETCDF\"fnames[file_no] # selects the last file on list\n",
    "#plot_dir = fnames[file_no]*\"_plots/\"\n",
    "#mkdir(plot_dir)\n",
    "\n",
    "#println(size(fnames))\n",
    "#println(filename)"
   ]
  },
  {
   "cell_type": "markdown",
   "metadata": {},
   "source": [
    "extract data"
   ]
  },
  {
   "cell_type": "code",
   "execution_count": null,
   "metadata": {},
   "outputs": [],
   "source": [
    "#ds = NCDataset(filename, \"r\");\n",
    "#lon = ds[\"lon\"][:];\n",
    "#lat = ds[\"lat\"][:];\n",
    "#lev = ds[\"sigma\"][:] ; # sigma coord\n",
    "#u = ds[\"u\"][:];\n",
    "#v = ds[\"v\"][:];\n",
    "#T = ds[\"streamfctn\"][:];\n",
    "#close(ds)\n",
    "\n",
    "#size(T)"
   ]
  },
  {
   "cell_type": "code",
   "execution_count": null,
   "metadata": {},
   "outputs": [],
   "source": [
    "function extract_snapshot(filename, time)\n",
    "    ds = NCDataset(filename*\"$time.nc\", \"r\");\n",
    "    lon = ds[\"lon\"][:];\n",
    "    lat = ds[\"lat\"][:];\n",
    "    lev = ds[\"sigma\"][:] ; # sigma coord\n",
    "    u = ds[\"u\"][:];\n",
    "    v = ds[\"v\"][:];\n",
    "    T = ds[\"streamfctn\"][:];\n",
    "    close(ds)\n",
    "    return lon,lat,lev,u,v,T\n",
    "end\n",
    "    \n",
    "function extract_timemean(filename, times)\n",
    "    u = Any[]\n",
    "    v = Any[]\n",
    "    T = Any[]\n",
    "    ct = 0\n",
    "    for time in times\n",
    "        ct += 1\n",
    "        ds = NCDataset(filename*\"$time.nc\", \"r\");\n",
    "        lon = ds[\"lon\"][:];\n",
    "        lat = ds[\"lat\"][:];\n",
    "        lev = ds[\"sigma\"][:] ; # sigma coord\n",
    "        if ct==1\n",
    "            u = ds[\"u\"][:] ./ length(times);\n",
    "            v = ds[\"v\"][:] ./ length(times);\n",
    "            T = ds[\"streamfctn\"][:] ./ length(times);\n",
    "        else             \n",
    "            u += ds[\"u\"][:] ./ length(times);\n",
    "            v += ds[\"v\"][:] ./ length(times);\n",
    "            T += ds[\"streamfctn\"][:] ./ length(times);\n",
    "        end\n",
    "        close(ds)\n",
    "    end\n",
    "    return lon,lat,lev,u,v,T\n",
    "end\n",
    "\n",
    "\n",
    "fourier_no = 3\n",
    "lat0 = 6\n",
    "CLIMA_NETCDF = string(\"/central/scratch/elencz/caltech_fms_idealized/hs_syn_diff/hs_syn_diff_num_fourier_\",fourier_no,\"_lat0_s_\",lat0,\".0/output/ppp_output/history/\");\n",
    "\n",
    "plot_dir = string(\"plots/\",\"yr5_num_fourier_\",fourier_no,\"_lat0_s_\",lat0)\n",
    "\n",
    "fname_root = \"day1800h00.segment\"\n",
    "filename = \"$CLIMA_NETCDF\"*fname_root\n",
    "\n",
    "lon,lat,lev,u_0,v_0,T_0 = extract_snapshot(filename, 100)\n",
    "\n",
    "times=collect(1:1:360)\n",
    "lon,lat,lev,u,v,T = extract_timemean(filename, times)\n",
    "\n"
   ]
  },
  {
   "cell_type": "code",
   "execution_count": null,
   "metadata": {},
   "outputs": [],
   "source": [
    "size(T)\n"
   ]
  },
  {
   "cell_type": "code",
   "execution_count": null,
   "metadata": {},
   "outputs": [],
   "source": [
    "# zonal mean:T and u at last diagnostic time\n",
    "\n",
    "u_zm = mean( u[:,:,:,:], dims=1)[1,:,:,:]; # lon, lat,lev\n",
    "T_zm = mean( T[:,:,:,:], dims=1)[1,:,:,:]; # lon, lat,lev \n",
    "v_zm = sqrt.(mean( v[:,:,:] .^ 2, dims=1)[1,:,:]); # lon, lat,lev\n",
    "\n",
    "plot1 = contourf( lat, lev, (u_zm[:,:] )', title=\"u\", xlabel=\"lat (deg N)\", ylabel=\"sigma\", linewidth = 0, yflip=true);\n",
    "plot1 = contourf( lat, lev, (0.5 .* (u_zm[:,:] + u_zm[end:-1:1,:]) )', title=\"u\", xlabel=\"lat (deg N)\", ylabel=\"sigma\", linewidth = 0, yflip=true);\n",
    "plot_array = [plot1]\n",
    "plot2 = contourf( lat, lev, (T_zm[:,:] ./ 1e9)', title=\"streamfunction\", xlabel=\"lat (deg N)\", ylabel=\"sigma\", linewidth = 0, yflip=true);\n",
    "plot2 = contourf( lat, lev, (0.5 .* (T_zm[:,:] - T_zm[end:-1:1,:])./ 1e9 )', title=\"streamfunction\", xlabel=\"lat (deg N)\", ylabel=\"sigma\", linewidth = 0, yflip=true);\n",
    "push!(plot_array,plot2);\n",
    "plot3 = contourf( lat, lev, (v_zm[:,:])', title=\"sqrt(v^2)\", xlabel=\"lat (deg N)\", ylabel=\"sigma\", linewidth = 0, yflip=true);\n",
    "plot3 = contourf( lat, lev, (0.5 .* (v_zm[:,:] + v_zm[end:-1:1,:]) )', title=\"sqrt(v^2)\", xlabel=\"lat (deg N)\", ylabel=\"sigma\", linewidth = 0, yflip=true);\n",
    "push!(plot_array,plot3);\n",
    "fig=plot(plot_array... , layout=(1, 3), size=(1200, 200) )\n",
    "#savefig(fig, plot_dir*\"zonal_mean.pdf\");\n",
    "savefig(fig, plot_dir*\"zonal_mean_sum.pdf\");\n",
    "display(fig)"
   ]
  },
  {
   "cell_type": "markdown",
   "metadata": {},
   "source": [
    "vertical slice of v at lev_index"
   ]
  },
  {
   "cell_type": "code",
   "execution_count": null,
   "metadata": {},
   "outputs": [],
   "source": [
    "lev_index = 5\n",
    "z_in_km = lev[lev_index]\n",
    "v_plot = contourf( lon, lat, (v_0[:,:,lev_index])', title=\"v @ $z_in_km\", xlabel=\"lon (deg)\", ylabel=\"lat (deg N)\", linewidth = 0);\n",
    "fig=plot(v_plot, layout=(1, 1), size=(800, 400) )\n",
    "savefig(fig, plot_dir*\"vertical_slice.pdf\");\n",
    "display(fig)"
   ]
  },
  {
   "cell_type": "code",
   "execution_count": null,
   "metadata": {},
   "outputs": [],
   "source": []
  },
  {
   "cell_type": "code",
   "execution_count": null,
   "metadata": {},
   "outputs": [],
   "source": []
  },
  {
   "cell_type": "code",
   "execution_count": null,
   "metadata": {},
   "outputs": [],
   "source": []
  },
  {
   "cell_type": "code",
   "execution_count": null,
   "metadata": {},
   "outputs": [],
   "source": []
  },
  {
   "cell_type": "code",
   "execution_count": null,
   "metadata": {},
   "outputs": [],
   "source": [
    "# Animation\n",
    "clims = (-10,10)\n",
    "diag_dt_days =  (time[2] - time[1]).value / (1000*60*60*24) # get simtime\n",
    "\n",
    "lev_index_tropos = 10\n",
    "lev_tropos = lev[lev_index_tropos]\n",
    "\n",
    "anim = @animate for t_i in 1:length(time)\n",
    "    plot_array = []\n",
    "    plot_zm = contourf( lat, lev, (v_zm[:,:,t_i])', title=\"sqrt(v^2)\", xlabel=\"lat (deg N)\", ylabel=\"z (km)\", clims = clims, linewidth=0);\n",
    "    push!(plot_array,plot_zm); \n",
    "    plot_h = contourf( lon, lat, (v[:,:,lev_index_tropos,t_i])', title=\"v @ $lev_tropos km\", xlabel=\"lon (deg)\", ylabel=\"lat (deg N)\", clims = clims, linewidth=0);\n",
    "    push!(plot_array,plot_h);  \n",
    "    time_=time[t_i]\n",
    "    plot_h = contourf( lon, lat, (v[:,:,lev_index,t_i])', title=\"v @ $z_in_km km @ $time_ s\", xlabel=\"lon (deg)\", ylabel=\"lat (deg N)\", clims = clims, linewidth=0);\n",
    "    push!(plot_array,plot_h);  \n",
    "    plot(plot_array..., layout=(1,3), size=(1200, 400) ) \n",
    "end\n",
    "mp4(anim, plot_dir*\"plot_y_slice_anim.gif\", fps = 7) # hide, mp4 is more flaky"
   ]
  },
  {
   "cell_type": "markdown",
   "metadata": {},
   "source": [
    "---\n",
    "\n",
    "*This notebook was generated using [Literate.jl](https://github.com/fredrikekre/Literate.jl).*"
   ]
  },
  {
   "cell_type": "code",
   "execution_count": null,
   "metadata": {},
   "outputs": [],
   "source": [
    "time[end]"
   ]
  },
  {
   "cell_type": "code",
   "execution_count": null,
   "metadata": {},
   "outputs": [],
   "source": []
  },
  {
   "cell_type": "code",
   "execution_count": null,
   "metadata": {},
   "outputs": [],
   "source": []
  },
  {
   "cell_type": "code",
   "execution_count": null,
   "metadata": {},
   "outputs": [],
   "source": []
  }
 ],
 "metadata": {
  "kernelspec": {
   "display_name": "Julia 1.5.2",
   "language": "julia",
   "name": "julia-1.5"
  },
  "language_info": {
   "file_extension": ".jl",
   "mimetype": "application/julia",
   "name": "julia",
   "version": "1.5.2"
  }
 },
 "nbformat": 4,
 "nbformat_minor": 3
}
